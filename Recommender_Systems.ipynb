{
  "nbformat": 4,
  "nbformat_minor": 0,
  "metadata": {
    "colab": {
      "name": "Recommender_Systems.ipynb",
      "private_outputs": true,
      "provenance": []
    },
    "kernelspec": {
      "name": "python3",
      "display_name": "Python 3"
    },
    "accelerator": "GPU"
  },
  "cells": [
    {
      "cell_type": "code",
      "metadata": {
        "id": "C3U1GaRfN8AN"
      },
      "source": [
        "!pip install pytorch-lightning"
      ],
      "execution_count": null,
      "outputs": []
    },
    {
      "cell_type": "code",
      "metadata": {
        "id": "e_Nk6piDOB4e"
      },
      "source": [
        "import pandas as pd\r\n",
        "import numpy as np\r\n",
        "from tqdm.notebook import tqdm\r\n",
        "\r\n",
        "import torch\r\n",
        "import torch.nn as nn\r\n",
        "from torch.utils.data import Dataset, DataLoader\r\n",
        "import pytorch_lightning as pl\r\n",
        "\r\n",
        "np.random.seed(123)"
      ],
      "execution_count": null,
      "outputs": []
    },
    {
      "cell_type": "code",
      "metadata": {
        "id": "D4BMf6YYMqOs"
      },
      "source": [
        "ratings = pd.read_csv('rating.csv', parse_dates=['timestamp'])"
      ],
      "execution_count": null,
      "outputs": []
    },
    {
      "cell_type": "code",
      "metadata": {
        "id": "Dg86qZ-XLxxs"
      },
      "source": [
        "rand_userIds = np.random.choice(ratings['userId'].unique(), \r\n",
        "                                size=int(len(ratings['userId'].unique())*0.3), \r\n",
        "                                replace=False)\r\n",
        "\r\n",
        "ratings = ratings.loc[ratings['userId'].isin(rand_userIds)]\r\n",
        "\r\n",
        "print('There are {} rows of data from {} users'.format(len(ratings), len(rand_userIds)))"
      ],
      "execution_count": null,
      "outputs": []
    },
    {
      "cell_type": "code",
      "metadata": {
        "id": "MgZVqxZNMNg7"
      },
      "source": [
        "ratings['rank_latest'] = ratings.groupby(['userId'])['timestamp'] \\\r\n",
        "                                .rank(method='first', ascending=False)\r\n",
        "\r\n",
        "train_ratings = ratings[ratings['rank_latest'] != 1]\r\n",
        "test_ratings = ratings[ratings['rank_latest'] == 1]\r\n",
        "\r\n",
        "# drop columns that we no longer need\r\n",
        "train_ratings = train_ratings[['userId', 'movieId', 'rating']]\r\n",
        "test_ratings = test_ratings[['userId', 'movieId', 'rating']]"
      ],
      "execution_count": null,
      "outputs": []
    },
    {
      "cell_type": "code",
      "metadata": {
        "id": "fSDrkBLvMRIo"
      },
      "source": [
        "train_ratings.loc[:, 'rating'] = 1\r\n",
        "\r\n",
        "train_ratings.sample(5)"
      ],
      "execution_count": null,
      "outputs": []
    },
    {
      "cell_type": "code",
      "metadata": {
        "id": "8MhLkC_DMZAb"
      },
      "source": [
        "# Get a list of all movie IDs\r\n",
        "all_movieIds = ratings['movieId'].unique()\r\n",
        "\r\n",
        "# Placeholders that will hold the training data\r\n",
        "users, items, labels = [], [], []\r\n",
        "\r\n",
        "# This is the set of items that each user has interaction with\r\n",
        "user_item_set = set(zip(train_ratings['userId'], train_ratings['movieId']))\r\n",
        "\r\n",
        "# 4:1 ratio of negative to positive samples\r\n",
        "num_negatives = 4\r\n",
        "\r\n",
        "for (u, i) in tqdm(user_item_set):\r\n",
        "    users.append(u)\r\n",
        "    items.append(i)\r\n",
        "    labels.append(1) # items that the user has interacted with are positive\r\n",
        "    for _ in range(num_negatives):\r\n",
        "        # randomly select an item\r\n",
        "        negative_item = np.random.choice(all_movieIds) \r\n",
        "        # check that the user has not interacted with this item\r\n",
        "        while (u, negative_item) in user_item_set:\r\n",
        "            negative_item = np.random.choice(all_movieIds)\r\n",
        "        users.append(u)\r\n",
        "        items.append(negative_item)\r\n",
        "        labels.append(0) # items not interacted with are negative"
      ],
      "execution_count": null,
      "outputs": []
    },
    {
      "cell_type": "code",
      "metadata": {
        "id": "221zSx3DNJNd"
      },
      "source": [
        "class MovieLensTrainDataset(Dataset):\r\n",
        "    def __init__(self, ratings, all_movieIds):\r\n",
        "        self.users, self.items, self.labels = self.get_dataset(ratings, all_movieIds)\r\n",
        "\r\n",
        "    def __len__(self):\r\n",
        "        return len(self.users)\r\n",
        "  \r\n",
        "    def __getitem__(self, idx):\r\n",
        "        return self.users[idx], self.items[idx], self.labels[idx]\r\n",
        "\r\n",
        "    def get_dataset(self, ratings, all_movieIds):\r\n",
        "        users, items, labels = [], [], []\r\n",
        "        user_item_set = set(zip(ratings['userId'], ratings['movieId']))\r\n",
        "\r\n",
        "        num_negatives = 4\r\n",
        "        for u, i in user_item_set:\r\n",
        "            users.append(u)\r\n",
        "            items.append(i)\r\n",
        "            labels.append(1)\r\n",
        "            for _ in range(num_negatives):\r\n",
        "                negative_item = np.random.choice(all_movieIds)\r\n",
        "                while (u, negative_item) in user_item_set:\r\n",
        "                    negative_item = np.random.choice(all_movieIds)\r\n",
        "                users.append(u)\r\n",
        "                items.append(negative_item)\r\n",
        "                labels.append(0)\r\n",
        "\r\n",
        "        return torch.tensor(users), torch.tensor(items), torch.tensor(labels)"
      ],
      "execution_count": null,
      "outputs": []
    },
    {
      "cell_type": "code",
      "metadata": {
        "id": "uJscz-6sNRFU"
      },
      "source": [
        "class NCF(pl.LightningModule):\r\n",
        "    def __init__(self, num_users, num_items, ratings, all_movieIds):\r\n",
        "        super().__init__()\r\n",
        "        self.user_embedding = nn.Embedding(num_embeddings=num_users, embedding_dim=8)\r\n",
        "        self.item_embedding = nn.Embedding(num_embeddings=num_items, embedding_dim=8)\r\n",
        "        self.fc1 = nn.Linear(in_features=16, out_features=64)\r\n",
        "        self.fc2 = nn.Linear(in_features=64, out_features=32)\r\n",
        "        self.output = nn.Linear(in_features=32, out_features=1)\r\n",
        "        self.ratings = ratings\r\n",
        "        self.all_movieIds = all_movieIds\r\n",
        "        \r\n",
        "    def forward(self, user_input, item_input):\r\n",
        "        \r\n",
        "        # Pass through embedding layers\r\n",
        "        user_embedded = self.user_embedding(user_input)\r\n",
        "        item_embedded = self.item_embedding(item_input)\r\n",
        "\r\n",
        "        # Concat the two embedding layers\r\n",
        "        vector = torch.cat([user_embedded, item_embedded], dim=-1)\r\n",
        "\r\n",
        "        # Pass through dense layer\r\n",
        "        vector = nn.ReLU()(self.fc1(vector))\r\n",
        "        vector = nn.ReLU()(self.fc2(vector))\r\n",
        "\r\n",
        "        # Output layer\r\n",
        "        pred = nn.Sigmoid()(self.output(vector))\r\n",
        "\r\n",
        "        return pred\r\n",
        "    \r\n",
        "    def training_step(self, batch, batch_idx):\r\n",
        "        user_input, item_input, labels = batch\r\n",
        "        predicted_labels = self(user_input, item_input)\r\n",
        "        loss = nn.BCELoss()(predicted_labels, labels.view(-1, 1).float())\r\n",
        "        return loss\r\n",
        "\r\n",
        "    def configure_optimizers(self):\r\n",
        "        return torch.optim.Adam(self.parameters())\r\n",
        "\r\n",
        "    def train_dataloader(self):\r\n",
        "        return DataLoader(MovieLensTrainDataset(self.ratings, self.all_movieIds),\r\n",
        "                          batch_size=512, num_workers=4)"
      ],
      "execution_count": null,
      "outputs": []
    },
    {
      "cell_type": "code",
      "metadata": {
        "id": "z8oIboV_NafQ"
      },
      "source": [
        "num_users = ratings['userId'].max()+1\r\n",
        "num_items = ratings['movieId'].max()+1\r\n",
        "\r\n",
        "all_movieIds = ratings['movieId'].unique()\r\n",
        "\r\n",
        "model = NCF(num_users, num_items, train_ratings, all_movieIds)"
      ],
      "execution_count": null,
      "outputs": []
    },
    {
      "cell_type": "code",
      "metadata": {
        "id": "PZ3eWA_fOZSn"
      },
      "source": [
        "trainer = pl.Trainer(max_epochs=10, gpus=1, reload_dataloaders_every_epoch=True,\r\n",
        "                     progress_bar_refresh_rate=50, logger=False, checkpoint_callback=False)\r\n",
        "\r\n",
        "trainer.fit(model)"
      ],
      "execution_count": null,
      "outputs": []
    },
    {
      "cell_type": "code",
      "metadata": {
        "id": "Fe4ijOxXOb0t"
      },
      "source": [
        "# User-item pairs for testing\r\n",
        "test_user_item_set = set(zip(test_ratings['userId'], test_ratings['movieId']))\r\n",
        "\r\n",
        "# Dict of all items that are interacted with by each user\r\n",
        "user_interacted_items = ratings.groupby('userId')['movieId'].apply(list).to_dict()\r\n",
        "\r\n",
        "hits = []\r\n",
        "for (u,i) in tqdm(test_user_item_set):\r\n",
        "    interacted_items = user_interacted_items[u]\r\n",
        "    not_interacted_items = set(all_movieIds) - set(interacted_items)\r\n",
        "    selected_not_interacted = list(np.random.choice(list(not_interacted_items), 99))\r\n",
        "    test_items = selected_not_interacted + [i]\r\n",
        "    \r\n",
        "    predicted_labels = np.squeeze(model(torch.tensor([u]*100), \r\n",
        "                                        torch.tensor(test_items)).detach().numpy())\r\n",
        "    \r\n",
        "    top10_items = [test_items[i] for i in np.argsort(predicted_labels)[::-1][0:10].tolist()]\r\n",
        "    \r\n",
        "    if i in top10_items:\r\n",
        "        hits.append(1)\r\n",
        "    else:\r\n",
        "        hits.append(0)\r\n",
        "        \r\n",
        "print(\"The Hit Ratio @ 10 is {:.2f}\".format(np.average(hits)))"
      ],
      "execution_count": null,
      "outputs": []
    },
    {
      "cell_type": "code",
      "metadata": {
        "id": "LlsYaJYaP9vf"
      },
      "source": [
        ""
      ],
      "execution_count": null,
      "outputs": []
    }
  ]
}